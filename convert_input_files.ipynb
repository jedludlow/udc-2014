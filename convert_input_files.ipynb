{
 "metadata": {
  "name": "",
  "signature": "sha256:e46b34b2921ac49ef562827876a8c2521e2a0af71961a02a2ea01541c0182c6f"
 },
 "nbformat": 3,
 "nbformat_minor": 0,
 "worksheets": [
  {
   "cells": [
    {
     "cell_type": "markdown",
     "metadata": {},
     "source": [
      "It's much faster to load the training and validation data from NumPy native files. Load up the CSV files and dump them back out as compressed `.npz` files."
     ]
    },
    {
     "cell_type": "code",
     "collapsed": false,
     "input": [
      "import numpy as np"
     ],
     "language": "python",
     "metadata": {},
     "outputs": [],
     "prompt_number": 1
    },
    {
     "cell_type": "heading",
     "level": 2,
     "metadata": {},
     "source": [
      "Preliminary Data Files"
     ]
    },
    {
     "cell_type": "code",
     "collapsed": false,
     "input": [
      "X = np.genfromtxt(\"train_X.csv\", delimiter=',')\n",
      "Y = np.genfromtxt(\"train_Y.csv\", delimiter=',')\n",
      "X_val = np.genfromtxt(\"val_X.csv\", delimiter=',')\n",
      "Y_val = np.genfromtxt(\"val_Y.csv\", delimiter=',')\n",
      "\n",
      "np.savez_compressed(\"prelim_files.npz\", X=X, Y=Y, X_val=X_val, Y_val=Y_val)"
     ],
     "language": "python",
     "metadata": {},
     "outputs": [],
     "prompt_number": 5
    },
    {
     "cell_type": "heading",
     "level": 2,
     "metadata": {},
     "source": [
      "Final Data Files"
     ]
    },
    {
     "cell_type": "code",
     "collapsed": false,
     "input": [
      "X_final = np.genfromtxt(\"train_X_final.csv\", delimiter=',')\n",
      "Y_final = np.genfromtxt(\"train_Y_final.csv\", delimiter=',')\n",
      "X_val_final = np.genfromtxt(\"val_X_final.csv\", delimiter=',')\n",
      "\n",
      "np.savez_compressed(\"final_files.npz\", X_final=X_final, Y_final=Y_final, X_val_final=X_val_final)"
     ],
     "language": "python",
     "metadata": {},
     "outputs": [],
     "prompt_number": 6
    },
    {
     "cell_type": "code",
     "collapsed": false,
     "input": [],
     "language": "python",
     "metadata": {},
     "outputs": []
    }
   ],
   "metadata": {}
  }
 ]
}